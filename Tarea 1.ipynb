{
 "cells": [
  {
   "cell_type": "markdown",
   "metadata": {},
   "source": [
    "# Tarea 1\n",
    "\n",
    "### 1.10"
   ]
  },
  {
   "cell_type": "markdown",
   "metadata": {},
   "source": [
    "\"Escriba un código que calcule el número de Euler con un error menor que 0.01 usando la expresión\n",
    "\n",
    "$$\n",
    "e = \\sum_{n = 0}^\\infty \\frac{1}{n!}\\,.\n",
    "$$\n",
    "\n",
    "Para calcular el error, puede comparar con la función math.exp(1). Para calcular el factorial de n, puede usar la función math.factorial(n). Para calcular el valor absoluto (puede ser necesario al calcular el error) use abs(x). Estas funciones estarán disponibles luego de ejecutar la siguiente línea.\""
   ]
  },
  {
   "cell_type": "code",
   "execution_count": 1,
   "metadata": {},
   "outputs": [],
   "source": [
    "from numpy import math"
   ]
  },
  {
   "cell_type": "code",
   "execution_count": 128,
   "metadata": {},
   "outputs": [],
   "source": [
    "e=math.exp(1) # Valor real del número de Euler "
   ]
  },
  {
   "cell_type": "code",
   "execution_count": 127,
   "metadata": {},
   "outputs": [
    {
     "name": "stdout",
     "output_type": "stream",
     "text": [
      "El número de Euler resulta en  2.708333333333332 utilizando 5 términos\n"
     ]
    }
   ],
   "source": [
    "S=0 #Acumulador\n",
    "n=-1 #Contador (Comienza de i=-1 pues la sumatoria empieza desde 0)\n",
    "euler_99=math.exp(1)*0.99 #Número de Euler multiplicado por 0.99\n",
    "while S<=euler_99:\n",
    "    n=n+1 #Contador (observar que el primer término de la sumatoria es igual a 0)\n",
    "    S=S+1/(math.factorial(i)) #Sumatoria\n",
    "print(\"El número de Euler resulta en \",S,\"utilizando\", i+1, \"términos\")"
   ]
  },
  {
   "cell_type": "code",
   "execution_count": 132,
   "metadata": {},
   "outputs": [
    {
     "name": "stdout",
     "output_type": "stream",
     "text": [
      "0.009948495125712942\n"
     ]
    }
   ],
   "source": [
    "Error=e-S #diferencia entre el valor real y el calculado con sumatoria\n",
    "print(Error)"
   ]
  },
  {
   "cell_type": "code",
   "execution_count": 131,
   "metadata": {},
   "outputs": [
    {
     "data": {
      "text/plain": [
       "0.027182818284590453"
      ]
     },
     "execution_count": 131,
     "metadata": {},
     "output_type": "execute_result"
    }
   ],
   "source": [
    "e*0.01 #1% del valor real del número de Euler"
   ]
  },
  {
   "cell_type": "markdown",
   "metadata": {},
   "source": [
    "Se puede observar que el Error calculado es menor al 1%"
   ]
  }
 ],
 "metadata": {
  "kernelspec": {
   "display_name": "Python 3",
   "language": "python",
   "name": "python3"
  },
  "language_info": {
   "codemirror_mode": {
    "name": "ipython",
    "version": 3
   },
   "file_extension": ".py",
   "mimetype": "text/x-python",
   "name": "python",
   "nbconvert_exporter": "python",
   "pygments_lexer": "ipython3",
   "version": "3.8.3"
  }
 },
 "nbformat": 4,
 "nbformat_minor": 4
}
