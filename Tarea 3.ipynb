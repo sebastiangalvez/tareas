{
 "cells": [
  {
   "cell_type": "markdown",
   "metadata": {},
   "source": [
    "# Tarea 3"
   ]
  },
  {
   "cell_type": "markdown",
   "metadata": {},
   "source": [
    "### Tarea 3.3"
   ]
  },
  {
   "cell_type": "markdown",
   "metadata": {},
   "source": [
    "Grafique la media móvil a 7 días del número de nuevos casos COVID19 en la región de Valparaíso usando los datos puestos arriba. La media móvil a 7 días consiste en que cada punto de la curva contiene el promedio de nuevos casos en los últimos 7 días."
   ]
  },
  {
   "cell_type": "code",
   "execution_count": 66,
   "metadata": {},
   "outputs": [],
   "source": [
    "import matplotlib.pyplot as plt\n",
    "import numpy as np"
   ]
  },
  {
   "cell_type": "markdown",
   "metadata": {},
   "source": [
    "### Preparar los datos"
   ]
  },
  {
   "cell_type": "code",
   "execution_count": 67,
   "metadata": {},
   "outputs": [],
   "source": [
    "casos = [0, 0, 0, 0, 0, 0, 0, 0, 0, 0, 0, 0, 0, 0, 0, 0, 2, 1, 0, 2, 1, 5, 1, 1, 1, 1, 3, 9, 1, 2, 4, 1, 9, 6, 1, \n",
    "         1, 4, 5, 0, 3, 2, 0, 0, 0, 2, 0, 0, 0, 1, 0, 1, 0, 2, 1, 0, 1, 0, 2, 0, 1, 1, 10, 3, 6, 0, 3, 11, 18, 6, \n",
    "         5, 8, 5, 12, 15, 7, 7, 18, 27, 24, 5, 13, 13, 29, 15, 46, 71, 27, 55, 60, 31, 40, 19, 31, 54, 60, 66, 92, \n",
    "         0, 133, 52, 81, 89, 93, 74, 44, 120, 44, 173, 87, 96, 119, 78, 86, 69, 57, 54, 98, 69, 75, 76, 104, 89, \n",
    "         69, 51, 54, 109, 101, 111, 76, 67, 91, 139, 108, 77, 63, 13, 98, 74, 125, 142, 180, 181, 146, 207, 197,\n",
    "        160, 247, 161, 147, 131, 111, 176, 149, 185, 193, 123, 137]"
   ]
  },
  {
   "cell_type": "code",
   "execution_count": 68,
   "metadata": {},
   "outputs": [
    {
     "data": {
      "text/plain": [
       "22.428571428571427"
      ]
     },
     "execution_count": 68,
     "metadata": {},
     "output_type": "execute_result"
    }
   ],
   "source": [
    "len(casos)/7 #para saber la cantidad de semanas "
   ]
  },
  {
   "cell_type": "code",
   "execution_count": 69,
   "metadata": {},
   "outputs": [],
   "source": [
    "promedio_semanal=[] #se crea variable vacía para sobreescribir con la información necesaria\n",
    "for i in range(23): #se usa un rango de 23 semanas, comenzando en la semana 0\n",
    "    promedio_semanal.append(np.mean(casos[7*i:7*(i+1)]))#se suma cada promedio semanal a la lista de datos\n",
    "semanas=np.linspace(1,23,23) #se utiliza para contar semanas desde la 1 a la 23"
   ]
  },
  {
   "cell_type": "markdown",
   "metadata": {},
   "source": [
    "### Crear el gráfico y graficar"
   ]
  },
  {
   "cell_type": "code",
   "execution_count": 70,
   "metadata": {
    "scrolled": true
   },
   "outputs": [
    {
     "data": {
      "text/plain": [
       "Text(0, 0.5, 'Promedio de contagios semanal')"
      ]
     },
     "execution_count": 70,
     "metadata": {},
     "output_type": "execute_result"
    },
    {
     "data": {
      "image/png": "[encoded data removed]",
      "text/plain": [
       "<Figure size 432x288 with 1 Axes>"
      ]
     },
     "metadata": {
      "needs_background": "light"
     },
     "output_type": "display_data"
    }
   ],
   "source": [
    "fig = plt.figure() #se crea la figura para gráficar\n",
    "grafico=fig.add_subplot(1,1,1) #se crea la grilla y la posición\n",
    "grafico.scatter(semanas,promedio_semanal)#se grafican los datos como puntos\n",
    "plt.title('Media móvil semanal de contagios en la región de Valparaíso',size=12)#se le pone título y se modifica el tamaño del mismo\n",
    "plt.xlabel('Semanas') #se nombra el eje x\n",
    "plt.ylabel('Promedio de contagios semanal')#se nombra el eje y"
   ]
  },
  {
   "cell_type": "markdown",
   "metadata": {},
   "source": [
    "# Calificación: 6.5"
   ]
  },
  {
   "cell_type": "markdown",
   "metadata": {},
   "source": [
    "La media móbil no es lo mismo que la media semanal. La media móbil consiste en un gráfico día por día, donde cada punto es el promedio de los siete días anteriores. (-0.1)\n",
    "\n",
    "Se utilizó un tipo de gráfico que no es el más adecuado para representar datos en el tiempo (scatter), sería mejor usar un simple plot. Aún se puede ver la tendencia, pero no es ideal. (-0.4)"
   ]
  }
 ],
 "metadata": {
  "kernelspec": {
   "display_name": "Python 3",
   "language": "python",
   "name": "python3"
  },
  "language_info": {
   "codemirror_mode": {
    "name": "ipython",
    "version": 3
   },
   "file_extension": ".py",
   "mimetype": "text/x-python",
   "name": "python",
   "nbconvert_exporter": "python",
   "pygments_lexer": "ipython3",
   "version": "3.8.5"
  }
 },
 "nbformat": 4,
 "nbformat_minor": 4
}
