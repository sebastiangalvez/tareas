{
 "cells": [
  {
   "cell_type": "markdown",
   "metadata": {},
   "source": [
    "# Tarea 4"
   ]
  },
  {
   "cell_type": "markdown",
   "metadata": {},
   "source": [
    "### Tarea 4.10\n",
    "Un colega le pasa a usted un archivo .hd5 que contiene tres \"datasets\" 'x', 'y', 'e'. Todos los datasets tienen la misma longitud y el i-ésimo elemento de cada dataset corresponde a una propiedad diferente del i-ésimo dato.\n",
    "\n",
    "Escriba una función que grafique esos resultados donde 'x' es el eje horizontal, 'y' el eje vertical y 'e' son las barras de error de 'y'.\n",
    "\n",
    "CUIDADO: Recuerde que el dataset es un puntero y deja de existir cuando se cierra el archivo."
   ]
  },
  {
   "cell_type": "markdown",
   "metadata": {},
   "source": [
    "**La entrega viene también con un archivo en formato hd5 para hacer ejemplos, de todas formas \\\n",
    "se puede utilizar el código para cualquier archivo .hd5 con el formato solicitado en el enunciado.**"
   ]
  },
  {
   "cell_type": "code",
   "execution_count": 1,
   "metadata": {},
   "outputs": [],
   "source": [
    "import h5py\n",
    "import numpy as np\n",
    "import matplotlib.pyplot as plt"
   ]
  },
  {
   "cell_type": "code",
   "execution_count": 2,
   "metadata": {},
   "outputs": [],
   "source": [
    "def graficar_hd5(Nombre_archivo,Título='Título',Eje_x='Eje x',Eje_y='Eje y'): # Se define una función que grafique.\n",
    "    \n",
    "    '''Esta función grafica los datos de la forma (x,y) \n",
    "    con un error en 'e' en los datos 'y' guardados en un archivo hdf5.\n",
    "    Parámetros:\n",
    "    Nombre_archivo: Se debe ingresar el nombre del archivo con terminación .hd5\n",
    "    Título: Designa el título del grafico\n",
    "    Eje_x: Designa el título del eje x\n",
    "    Eje_y: Designa el título del eje y\n",
    "    observación: Todos los parámetros deben ser strings, es decir\n",
    "    puestos entre comillas ('Ejemplo') '''\n",
    "    \n",
    "    \n",
    "    f1=h5py.File(Nombre_archivo,'r') #Se abre el archivo hd5 y se guarda en una variable 'f1'\n",
    "    l=list(f1.keys()) # Se genera una lista con las keys de 'f1'\n",
    "    X=f1[l[1]] #  Se guardan las keys en nuevas variables para graficar\n",
    "    Y=f1[l[2]] #  OBSERVACIÓN: VER NOTA 1\n",
    "    E=f1[l[0]] # \n",
    "\n",
    "    plt.errorbar(X,Y,E,ecolor='r') #Se genera una grafica con barras de error\n",
    "    plt.title(Título,size=20) #Se pone un título y también títulos a los ejes\n",
    "    plt.xlabel(Eje_x,size=12)\n",
    "    plt.ylabel(Eje_y,size=12)"
   ]
  },
  {
   "cell_type": "code",
   "execution_count": 3,
   "metadata": {
    "scrolled": false
   },
   "outputs": [
    {
     "data": {
      "image/png": "[encoded data removed]",
      "text/plain": [
       "<Figure size 432x288 with 1 Axes>"
      ]
     },
     "metadata": {
      "needs_background": "light"
     },
     "output_type": "display_data"
    }
   ],
   "source": [
    "graficar_hd5('archivo.hd5') # Demostración utilizando un archivo creado con anterioridad"
   ]
  },
  {
   "cell_type": "markdown",
   "metadata": {},
   "source": [
    "### Nota 1:\n",
    "En caso de querer evaluar que las keys están siendo llamadas de manera correcta, utilizar la siguiente función:"
   ]
  },
  {
   "cell_type": "code",
   "execution_count": 4,
   "metadata": {},
   "outputs": [],
   "source": [
    "def evalu(Nombre_archivo):\n",
    "    ''' Función que muestra una lista con las keys que \n",
    "    pertenecen al archivo'''\n",
    "    f1=h5py.File(Nombre_archivo,'r')\n",
    "    return list(f1.keys())"
   ]
  },
  {
   "cell_type": "code",
   "execution_count": 5,
   "metadata": {
    "scrolled": true
   },
   "outputs": [
    {
     "data": {
      "text/plain": [
       "['e', 'x', 'y']"
      ]
     },
     "execution_count": 5,
     "metadata": {},
     "output_type": "execute_result"
    }
   ],
   "source": [
    "evalu('archivo.hd5') # Utilizando este resultado se puede verificar que las keys están siendo llamadas de manera correcta,\n",
    "                     # en caso contrario se deben arreglar los índices que determinan las variables (X,Y,E) en la función \n",
    "                     # \"graficar_hd5\""
   ]
  },
  {
   "cell_type": "markdown",
   "metadata": {},
   "source": [
    "# Calificación: 7.0"
   ]
  },
  {
   "cell_type": "markdown",
   "metadata": {},
   "source": [
    "Hay que poner cuidado con un detalle: Abres el archivo usando h5py.File, ¡pero nunca lo cierras!"
   ]
  }
 ],
 "metadata": {
  "kernelspec": {
   "display_name": "Python 3",
   "language": "python",
   "name": "python3"
  },
  "language_info": {
   "codemirror_mode": {
    "name": "ipython",
    "version": 3
   },
   "file_extension": ".py",
   "mimetype": "text/x-python",
   "name": "python",
   "nbconvert_exporter": "python",
   "pygments_lexer": "ipython3",
   "version": "3.8.5"
  }
 },
 "nbformat": 4,
 "nbformat_minor": 4
}
