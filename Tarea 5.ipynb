{
 "cells": [
  {
   "cell_type": "markdown",
   "metadata": {},
   "source": [
    "# Tarea 5\n"
   ]
  },
  {
   "cell_type": "markdown",
   "metadata": {},
   "source": [
    "### Tarea 5.7"
   ]
  },
  {
   "cell_type": "markdown",
   "metadata": {},
   "source": [
    "En ausencia de una señal, un cierto detector de partículas en promedio detecta $2$ impactos por segundo debidos a una contaminación de fondo. Durante una medición se obtienen las siguientes observaciones (esta es una lista del número de señales por cada segundo de duración del experimento):"
   ]
  },
  {
   "cell_type": "code",
   "execution_count": 117,
   "metadata": {},
   "outputs": [],
   "source": [
    "mediciones = [2, 3, 3, 3, 0, 1, 2, 2, 0, 4, 10, 0, 2, 4, 6, 3, 2, 1, 1, 1]"
   ]
  },
  {
   "cell_type": "markdown",
   "metadata": {},
   "source": [
    "Compare estos resultados con la distribución de Poisson. Discuta en cuáles intervalos cree usted que se detectó una señal que no es contaminación."
   ]
  },
  {
   "cell_type": "code",
   "execution_count": 11,
   "metadata": {},
   "outputs": [],
   "source": [
    "import numpy as np\n",
    "import matplotlib.pyplot as plt"
   ]
  },
  {
   "cell_type": "code",
   "execution_count": 75,
   "metadata": {},
   "outputs": [],
   "source": [
    "def poisson(n, lamda):\n",
    "    '''Función que entrega la probabilidad de que un evento se repita\n",
    "    n veces en un intervalo de tiempo\n",
    "    Parámetros\n",
    "    n: número de eventos.\n",
    "    lamda: promedio de número de veces que ocurre el evento en un intervalo.\n",
    "    '''\n",
    "    return lamda**n*np.exp(-lamda)/np.math.factorial(n)"
   ]
  },
  {
   "cell_type": "code",
   "execution_count": 138,
   "metadata": {},
   "outputs": [],
   "source": [
    "datos = np.array([[0,2], # se reordenan los datos con sus respectivos       \n",
    "         [1,3],          # tiempos para el siguiente paso    \n",
    "         [2,3],\n",
    "         [3,3],\n",
    "         [4,0],\n",
    "         [5,1],\n",
    "         [6,2],\n",
    "         [7,2],\n",
    "         [8,0],\n",
    "         [9,4],\n",
    "         [10,10],\n",
    "         [11,0],\n",
    "         [12,2],\n",
    "         [13,4],\n",
    "         [14,6],\n",
    "         [15,3],\n",
    "         [16,2],\n",
    "         [17,1],\n",
    "         [18,1],\n",
    "         [19,1]])\n"
   ]
  },
  {
   "cell_type": "code",
   "execution_count": 145,
   "metadata": {},
   "outputs": [],
   "source": [
    "lamda = sum(datos[:,0]*datos[:,1])/sum(datos[:,1]) # se calcula lamda"
   ]
  },
  {
   "cell_type": "code",
   "execution_count": 146,
   "metadata": {},
   "outputs": [],
   "source": [
    "predicciones = np.array([poisson(n, lamda)*sum(mediciones) for n in range(20)])\n",
    "# se hacen las predicciones para el caso de que se comporte como la \n",
    "# distribución de poisson de manera perfecta"
   ]
  },
  {
   "cell_type": "markdown",
   "metadata": {},
   "source": [
    "A continuación se grafican tanto las mediciones como las predicciones para comparar"
   ]
  },
  {
   "cell_type": "code",
   "execution_count": 155,
   "metadata": {
    "scrolled": true
   },
   "outputs": [
    {
     "data": {
      "text/plain": [
       "<BarContainer object of 20 artists>"
      ]
     },
     "execution_count": 155,
     "metadata": {},
     "output_type": "execute_result"
    },
    {
     "data": {
      "image/png": "[encoded data removed]",
      "text/plain": [
       "<Figure size 432x288 with 1 Axes>"
      ]
     },
     "metadata": {
      "needs_background": "light"
     },
     "output_type": "display_data"
    }
   ],
   "source": [
    "plt.bar(datos[:,0],mediciones)\n",
    "plt.xlabel"
   ]
  },
  {
   "cell_type": "code",
   "execution_count": 148,
   "metadata": {
    "scrolled": true
   },
   "outputs": [
    {
     "data": {
      "text/plain": [
       "<BarContainer object of 20 artists>"
      ]
     },
     "execution_count": 148,
     "metadata": {},
     "output_type": "execute_result"
    },
    {
     "data": {
      "image/png": "[encoded data removed]",
      "text/plain": [
       "<Figure size 432x288 with 1 Axes>"
      ]
     },
     "metadata": {
      "needs_background": "light"
     },
     "output_type": "display_data"
    }
   ],
   "source": [
    "plt.bar(datos[:,0],predicciones)"
   ]
  },
  {
   "cell_type": "markdown",
   "metadata": {},
   "source": [
    "Finalmente se hace un calculo además de visual, cuantitativo. Aquellas mediciones que se diferencien en mas de 2 impactos por segundo de las predicciones, podrían ser detecciones reales."
   ]
  },
  {
   "cell_type": "code",
   "execution_count": 158,
   "metadata": {},
   "outputs": [
    {
     "data": {
      "text/plain": [
       "array([ 1.99633152,  2.96507604,  2.83376195,  2.47247125, -1.25551842,\n",
       "       -1.39050707, -1.79293788, -3.15839552, -6.13849067, -2.49315902,\n",
       "        3.81851261, -5.34979636, -2.24417178,  0.89196036,  3.88653304,\n",
       "        1.65865297,  1.20189852,  0.55306317,  0.76362008,  0.88156122])"
      ]
     },
     "execution_count": 158,
     "metadata": {},
     "output_type": "execute_result"
    }
   ],
   "source": [
    "mediciones-predicciones"
   ]
  },
  {
   "cell_type": "markdown",
   "metadata": {},
   "source": [
    "Es probable que las mediciones en los segundos 2, 4, 8 y 18 no sean contaminación."
   ]
  }
 ],
 "metadata": {
  "kernelspec": {
   "display_name": "Python 3",
   "language": "python",
   "name": "python3"
  },
  "language_info": {
   "codemirror_mode": {
    "name": "ipython",
    "version": 3
   },
   "file_extension": ".py",
   "mimetype": "text/x-python",
   "name": "python",
   "nbconvert_exporter": "python",
   "pygments_lexer": "ipython3",
   "version": "3.8.3"
  }
 },
 "nbformat": 4,
 "nbformat_minor": 4
}
