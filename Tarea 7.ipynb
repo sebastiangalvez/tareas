{
 "cells": [
  {
   "cell_type": "markdown",
   "metadata": {},
   "source": [
    "# Tarea 7"
   ]
  },
  {
   "cell_type": "markdown",
   "metadata": {},
   "source": [
    "### Tarea 7.1"
   ]
  },
  {
   "cell_type": "markdown",
   "metadata": {},
   "source": [
    "Encuentre un cero de la función\n",
    "\n",
    "$$\n",
    "f(x) = 1 - \\cos(x) -\\frac{\\sin(x)}{x}\n",
    "$$\n",
    "\n",
    "entre $-6.4$ y $-6.0$ usando el método de Newton y el método de bisección. Grafique el número de iteraciones requerido así como el tiempo requerido en función de la precisión para ambos métodos."
   ]
  },
  {
   "cell_type": "code",
   "execution_count": 1,
   "metadata": {},
   "outputs": [],
   "source": [
    "import numpy as np\n",
    "import matplotlib.pyplot as plt\n",
    "import time"
   ]
  },
  {
   "cell_type": "code",
   "execution_count": 2,
   "metadata": {},
   "outputs": [],
   "source": [
    "def f(x):                            #se define la función a ser estudidada\n",
    "    return 1-np.cos(x)-(np.sin(x)/x)"
   ]
  },
  {
   "cell_type": "markdown",
   "metadata": {},
   "source": [
    "### Método de Bisección"
   ]
  },
  {
   "cell_type": "code",
   "execution_count": 3,
   "metadata": {},
   "outputs": [],
   "source": [
    "def biseccion(func,a,b,epsilon,N=100000): # se define el método de bisección\n",
    "    for i in range(N):\n",
    "        p=a+(b-a)/2\n",
    "        if abs(func(p))<epsilon:\n",
    "            print('Cero en', p, 'después de',i+1,'pasos.')\n",
    "            return p\n",
    "        elif func(p)*func(a)>0:\n",
    "            a=p\n",
    "        else:\n",
    "            b=p\n",
    "    print('No se encontró')"
   ]
  },
  {
   "cell_type": "code",
   "execution_count": 4,
   "metadata": {},
   "outputs": [
    {
     "name": "stdout",
     "output_type": "stream",
     "text": [
      "Cero en -6.2828125 después de 8 pasos.\n"
     ]
    },
    {
     "data": {
      "text/plain": [
       "-6.2828125"
      ]
     },
     "execution_count": 4,
     "metadata": {},
     "output_type": "execute_result"
    }
   ],
   "source": [
    "biseccion(f,-6.4,-6.0,0.0001) # se encuentra un 0 para un valor epsilon 0.0001"
   ]
  },
  {
   "cell_type": "markdown",
   "metadata": {},
   "source": [
    "### Método de Newton"
   ]
  },
  {
   "cell_type": "code",
   "execution_count": 5,
   "metadata": {},
   "outputs": [],
   "source": [
    "def newton(func,df,p0,epsilon,N=100000): # se define el método de Newton\n",
    "    for i in range(N):\n",
    "        p=p0-f(p0)/df(p0)\n",
    "        if abs(p-p0)/abs(p)<epsilon:\n",
    "            print('Cero en',p, 'después de',i+1,'pasos.')\n",
    "            return p\n",
    "        p0=p\n",
    "    print('No se encontró')"
   ]
  },
  {
   "cell_type": "code",
   "execution_count": 6,
   "metadata": {},
   "outputs": [],
   "source": [
    "def df(x):                                          # se define la derivada de la función\n",
    "    return np.sin(x)-((x*np.cos(x)-np.sin(x))/x**2)"
   ]
  },
  {
   "cell_type": "code",
   "execution_count": 7,
   "metadata": {},
   "outputs": [
    {
     "name": "stdout",
     "output_type": "stream",
     "text": [
      "Cero en -6.283185307163261 después de 5 pasos.\n"
     ]
    },
    {
     "data": {
      "text/plain": [
       "-6.283185307163261"
      ]
     },
     "execution_count": 7,
     "metadata": {},
     "output_type": "execute_result"
    }
   ],
   "source": [
    "newton(f,df,-6,0.0001) # se encuentra un 0 para un valor epsilon 0.0001"
   ]
  },
  {
   "cell_type": "markdown",
   "metadata": {},
   "source": [
    "## Gráficos "
   ]
  },
  {
   "cell_type": "code",
   "execution_count": 8,
   "metadata": {},
   "outputs": [],
   "source": [
    "epsilons=[1e-3,1e-6,1e-9,1e-12,1e-15] # para graficar se definen los siguientes valores de epsilon\n",
    "log10=np.log10(epsilons) # para ver mejor los gráficos se calcula el logaritmo base 10"
   ]
  },
  {
   "cell_type": "markdown",
   "metadata": {},
   "source": [
    "#### Bisección"
   ]
  },
  {
   "cell_type": "code",
   "execution_count": 9,
   "metadata": {
    "scrolled": true
   },
   "outputs": [
    {
     "name": "stdout",
     "output_type": "stream",
     "text": [
      "Cero en -6.2875000000000005 después de 5 pasos.\n",
      "Se demoró 0.0 segundos\n"
     ]
    }
   ],
   "source": [
    "ti = time.time()            # se calcula el 0 para diferentes valores de epsilons y se calcula el tiempo que tarda \n",
    "biseccion(f,-6.4,-6.0,1e-3)\n",
    "tf = time.time()\n",
    "t1=tf-ti\n",
    "print('Se demoró', t1, 'segundos')"
   ]
  },
  {
   "cell_type": "code",
   "execution_count": 10,
   "metadata": {},
   "outputs": [
    {
     "name": "stdout",
     "output_type": "stream",
     "text": [
      "Cero en -6.28319091796875 después de 15 pasos.\n",
      "Se demoró 0.0 segundos\n"
     ]
    }
   ],
   "source": [
    "ti = time.time() \n",
    "biseccion(f,-6.4,-6.0,1e-6)\n",
    "tf = time.time()\n",
    "t2=tf-ti\n",
    "print('Se demoró', t2, 'segundos')"
   ]
  },
  {
   "cell_type": "code",
   "execution_count": 11,
   "metadata": {},
   "outputs": [
    {
     "name": "stdout",
     "output_type": "stream",
     "text": [
      "Cero en -6.283185303211213 después de 25 pasos.\n",
      "Se demoró 0.0 segundos\n"
     ]
    }
   ],
   "source": [
    "ti = time.time() \n",
    "biseccion(f,-6.4,-6.0,1e-9)\n",
    "tf = time.time()\n",
    "t3=tf-ti\n",
    "print('Se demoró', t3, 'segundos')"
   ]
  },
  {
   "cell_type": "code",
   "execution_count": 12,
   "metadata": {},
   "outputs": [
    {
     "name": "stdout",
     "output_type": "stream",
     "text": [
      "Cero en -6.283185307180975 después de 35 pasos.\n",
      "Se demoró 0.0010008811950683594 segundos\n"
     ]
    }
   ],
   "source": [
    "ti = time.time() \n",
    "biseccion(f,-6.4,-6.0,1e-12)\n",
    "tf = time.time()\n",
    "t4=tf-ti\n",
    "print('Se demoró', t4, 'segundos')"
   ]
  },
  {
   "cell_type": "code",
   "execution_count": 13,
   "metadata": {},
   "outputs": [
    {
     "name": "stdout",
     "output_type": "stream",
     "text": [
      "Cero en -6.283185307179588 después de 44 pasos.\n",
      "Se demoró 0.0010001659393310547 segundos\n"
     ]
    }
   ],
   "source": [
    "ti = time.time() \n",
    "biseccion(f,-6.4,-6.0,1e-15)\n",
    "tf = time.time()\n",
    "t5=tf-ti\n",
    "print('Se demoró', t5, 'segundos')"
   ]
  },
  {
   "cell_type": "code",
   "execution_count": 14,
   "metadata": {},
   "outputs": [],
   "source": [
    "iteraciones1=[5,15,25,35,45] # se anotan las iteraciones y los tiempos para graficar\n",
    "tiempo1=[t1,t2,t3,t4,t5]"
   ]
  },
  {
   "cell_type": "code",
   "execution_count": 25,
   "metadata": {
    "scrolled": false
   },
   "outputs": [
    {
     "data": {
      "text/plain": [
       "Text(0, 0.5, '$log10(\\\\epsilon)$')"
      ]
     },
     "execution_count": 25,
     "metadata": {},
     "output_type": "execute_result"
    },
    {
     "data": {
      "image/png": "[encoded data removed]",
      "text/plain": [
       "<Figure size 432x288 with 1 Axes>"
      ]
     },
     "metadata": {
      "needs_background": "light"
     },
     "output_type": "display_data"
    }
   ],
   "source": [
    "plt.plot(iteraciones1,log10)\n",
    "plt.title('Iteraciones vs precisión (Bisección)',size=14)\n",
    "plt.xlabel('Iteraciones',size=12)\n",
    "plt.ylabel('$log10(\\epsilon)$',size=12)"
   ]
  },
  {
   "cell_type": "code",
   "execution_count": 16,
   "metadata": {},
   "outputs": [
    {
     "data": {
      "text/plain": [
       "Text(0, 0.5, '$log10(\\\\epsilon)$')"
      ]
     },
     "execution_count": 16,
     "metadata": {},
     "output_type": "execute_result"
    },
    {
     "data": {
      "image/png": "[encoded data removed]",
      "text/plain": [
       "<Figure size 432x288 with 1 Axes>"
      ]
     },
     "metadata": {
      "needs_background": "light"
     },
     "output_type": "display_data"
    }
   ],
   "source": [
    "plt.plot(tiempo1,log10)\n",
    "plt.title('Tiempo vs precisión (Bisección)',size=14)\n",
    "plt.xlabel('Tiempo (s)',size=12)\n",
    "plt.ylabel('$log10(\\epsilon)$',size=12)"
   ]
  },
  {
   "cell_type": "markdown",
   "metadata": {},
   "source": [
    "#### Newton"
   ]
  },
  {
   "cell_type": "code",
   "execution_count": 17,
   "metadata": {
    "scrolled": false
   },
   "outputs": [
    {
     "name": "stdout",
     "output_type": "stream",
     "text": [
      "Cero en -6.283183083170529 después de 4 pasos.\n",
      "Se demoró 0.001001119613647461 segundos\n"
     ]
    }
   ],
   "source": [
    "ti = time.time()   # se calcula el 0 para diferentes valores de epsilons y se calcula el tiempo que tarda \n",
    "newton(f,df,-6,1e-3)\n",
    "tf = time.time()\n",
    "t1=tf-ti\n",
    "print('Se demoró', t1, 'segundos')"
   ]
  },
  {
   "cell_type": "code",
   "execution_count": 18,
   "metadata": {},
   "outputs": [
    {
     "name": "stdout",
     "output_type": "stream",
     "text": [
      "Cero en -6.283185307163261 después de 5 pasos.\n",
      "Se demoró 0.0010001659393310547 segundos\n"
     ]
    }
   ],
   "source": [
    "ti = time.time() \n",
    "newton(f,df,-6,1e-6)\n",
    "tf = time.time()\n",
    "t2=tf-ti\n",
    "print('Se demoró', t2, 'segundos')"
   ]
  },
  {
   "cell_type": "code",
   "execution_count": 19,
   "metadata": {},
   "outputs": [
    {
     "name": "stdout",
     "output_type": "stream",
     "text": [
      "Cero en -6.283185307179586 después de 6 pasos.\n",
      "Se demoró 0.0 segundos\n"
     ]
    }
   ],
   "source": [
    "ti = time.time() \n",
    "newton(f,df,-6,1e-9)\n",
    "tf = time.time()\n",
    "t3=tf-ti\n",
    "print('Se demoró', t3, 'segundos')"
   ]
  },
  {
   "cell_type": "code",
   "execution_count": 20,
   "metadata": {},
   "outputs": [
    {
     "name": "stdout",
     "output_type": "stream",
     "text": [
      "Cero en -6.283185307179586 después de 7 pasos.\n",
      "Se demoró 0.0 segundos\n"
     ]
    }
   ],
   "source": [
    "ti = time.time() \n",
    "newton(f,df,-6,1e-12)\n",
    "tf = time.time()\n",
    "t4=tf-ti\n",
    "print('Se demoró', t4, 'segundos')"
   ]
  },
  {
   "cell_type": "code",
   "execution_count": 21,
   "metadata": {},
   "outputs": [
    {
     "name": "stdout",
     "output_type": "stream",
     "text": [
      "Cero en -6.283185307179586 después de 7 pasos.\n",
      "Se demoró 0.0009987354278564453 segundos\n"
     ]
    }
   ],
   "source": [
    "ti = time.time() \n",
    "newton(f,df,-6,1e-15)\n",
    "tf = time.time()\n",
    "t5=tf-ti\n",
    "print('Se demoró', t5, 'segundos')"
   ]
  },
  {
   "cell_type": "code",
   "execution_count": 22,
   "metadata": {},
   "outputs": [],
   "source": [
    "iteraciones2=[4,5,6,7,7] # se anotan las iteraciones y los tiempos para graficar\n",
    "tiempo2=[t1,t2,t3,t4,t5]"
   ]
  },
  {
   "cell_type": "code",
   "execution_count": 23,
   "metadata": {},
   "outputs": [
    {
     "data": {
      "text/plain": [
       "Text(0, 0.5, '$log10(\\\\epsilon)$')"
      ]
     },
     "execution_count": 23,
     "metadata": {},
     "output_type": "execute_result"
    },
    {
     "data": {
      "image/png": "[encoded data removed]",
      "text/plain": [
       "<Figure size 432x288 with 1 Axes>"
      ]
     },
     "metadata": {
      "needs_background": "light"
     },
     "output_type": "display_data"
    }
   ],
   "source": [
    "plt.plot(iteraciones2,log10)\n",
    "plt.title('Iteraciones vs precisión (Newton)',size=14)\n",
    "plt.xlabel('Iteraciones',size=12)\n",
    "plt.ylabel('$log10(\\epsilon)$',size=12)"
   ]
  },
  {
   "cell_type": "code",
   "execution_count": 24,
   "metadata": {
    "scrolled": true
   },
   "outputs": [
    {
     "data": {
      "text/plain": [
       "Text(0, 0.5, '$log10(\\\\epsilon)$')"
      ]
     },
     "execution_count": 24,
     "metadata": {},
     "output_type": "execute_result"
    },
    {
     "data": {
      "image/png": "[encoded data removed]",
      "text/plain": [
       "<Figure size 432x288 with 1 Axes>"
      ]
     },
     "metadata": {
      "needs_background": "light"
     },
     "output_type": "display_data"
    }
   ],
   "source": [
    "plt.plot(tiempo2,log10)\n",
    "plt.title('Tiempo vs precisión (Newton)',size=14)\n",
    "plt.xlabel('Tiempo (s)',size=12)\n",
    "plt.ylabel('$log10(\\epsilon)$',size=12)"
   ]
  },
  {
   "cell_type": "markdown",
   "metadata": {},
   "source": [
    "Se puede apreciar, al comparar los graficos de Iteraciones vs precisión, que con el **Método de Newton** se necesitan menos iteraciones para alcanzar un mayor precisión. Por lo tanto este método es más eficiente. De los gráficos de tiempo vs precisión no se puede extraer mucha información pues los tiempos para realizar estos cálculos son muy pequeños."
   ]
  },
  {
   "cell_type": "markdown",
   "metadata": {},
   "source": [
    "# Calificación: 6.5"
   ]
  },
  {
   "cell_type": "markdown",
   "metadata": {},
   "source": [
    "Está todo bien explicado. Lamentablemente la medición de los tiempos no es muy buena. Para código que tarda tan poco en correr, es necesario repetir varias veces cada cálculo, así el computador tarda más tiempo en correrlo y se puede medir."
   ]
  }
 ],
 "metadata": {
  "kernelspec": {
   "display_name": "Python 3",
   "language": "python",
   "name": "python3"
  },
  "language_info": {
   "codemirror_mode": {
    "name": "ipython",
    "version": 3
   },
   "file_extension": ".py",
   "mimetype": "text/x-python",
   "name": "python",
   "nbconvert_exporter": "python",
   "pygments_lexer": "ipython3",
   "version": "3.8.5"
  }
 },
 "nbformat": 4,
 "nbformat_minor": 4
}
