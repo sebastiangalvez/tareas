{
 "cells": [
  {
   "cell_type": "markdown",
   "metadata": {},
   "source": [
    "### Tarea 9.6"
   ]
  },
  {
   "cell_type": "markdown",
   "metadata": {},
   "source": [
    "Escriba un código que implemente una cuadratura gaussiana compuesta. Es decir, divide el rango de integración en $n$ subintervalos y aplica una cuadratura gaussiana en cada uno."
   ]
  },
  {
   "cell_type": "code",
   "execution_count": 1,
   "metadata": {},
   "outputs": [],
   "source": [
    "import numpy as np"
   ]
  },
  {
   "cell_type": "markdown",
   "metadata": {},
   "source": [
    "Se va a aproximar la función por medio de un polinomio de grado 5.\\\n",
    "Por lo tanto se define la cuadratura gaussina para un polinomio de grado 5"
   ]
  },
  {
   "cell_type": "code",
   "execution_count": 2,
   "metadata": {},
   "outputs": [],
   "source": [
    "def gauss_quad_5(f, a, b): # código utilizado en la clase para definir el polinomio\n",
    "    \n",
    "    def x(t):                        # cambio de variable para dejar la integral en el intervalo [-1,1]\n",
    "        return ((b - a)*t + a + b)/2\n",
    "    \n",
    "    c = [0.2369268850, 0.4786286705, 0.5688888889, 0.4786286705, 0.2369268850] # coeficientes del polinomio\n",
    "    r = [0.9061798459, 0.5384693101, 0.0000000000, -0.5384693101, -0.9061798459] # valores de x a evaluar\n",
    "    \n",
    "    return ((b-a)/2)*sum(c[i]*f(x(r[i])) for i in range(5)) "
   ]
  },
  {
   "cell_type": "markdown",
   "metadata": {},
   "source": [
    "Ahora definimos una función para generar $n$ subintervalos iguales de un rango."
   ]
  },
  {
   "cell_type": "code",
   "execution_count": 3,
   "metadata": {},
   "outputs": [],
   "source": [
    "def sub_n(a,b,n=1): # a: inicio del intervalo, b final del intervalo, n: número de subintervalos\n",
    "    i = 1\n",
    "    inter = (b-a)/n # largo del intervalo\n",
    "    ran = [a] # el rango siempre empieza en a\n",
    "    while i <= n: \n",
    "        ran.append(a+inter*i)\n",
    "        i = i+1\n",
    "    return ran"
   ]
  },
  {
   "cell_type": "markdown",
   "metadata": {},
   "source": [
    "Usando la función anterior se crean los subintervalos y se define una función cuya integral será calculada."
   ]
  },
  {
   "cell_type": "code",
   "execution_count": 8,
   "metadata": {},
   "outputs": [],
   "source": [
    "sub_int = sub_n(1,3,4)  # dividir el intervalo [1,3] en 4 intervalos iguales\n",
    "f = np.sin # función a evaluar, también puede probarse con otras (np.sin, np.cos, np.exp, etc)"
   ]
  },
  {
   "cell_type": "code",
   "execution_count": 9,
   "metadata": {
    "scrolled": true
   },
   "outputs": [
    {
     "name": "stdout",
     "output_type": "stream",
     "text": [
      "Los resultados de cada intervalo son [0.46956510417767827, 0.4868840381912474, 0.3849967789811316, 0.18884888104435876] La suma de todos estos resultados es 1.530294802394416\n"
     ]
    }
   ],
   "source": [
    "i = 0 \n",
    "u = []\n",
    "while i <= len(sub_int)-2:\n",
    "    a = sub_int[i]\n",
    "    b = sub_int[i+1]\n",
    "    u.append(gauss_quad_5(f,a,b))\n",
    "    i = i + 1 \n",
    "print('Los resultados de cada intervalo son', u,'La suma de todos estos resultados es', np.sum(u))"
   ]
  },
  {
   "cell_type": "markdown",
   "metadata": {},
   "source": [
    "Se puede comparar con hacer la integral sobre todo el intervalo."
   ]
  },
  {
   "cell_type": "code",
   "execution_count": 6,
   "metadata": {},
   "outputs": [
    {
     "data": {
      "text/plain": [
       "1.5302948031519217"
      ]
     },
     "execution_count": 6,
     "metadata": {},
     "output_type": "execute_result"
    }
   ],
   "source": [
    "gauss_quad_5(np.sin, 1, 3)"
   ]
  },
  {
   "cell_type": "markdown",
   "metadata": {},
   "source": [
    "Se puede apreciar una diferencia entre el valor calculado diviendo entre intervalos y el valor obtenido sin dividir. Esto se debe a los errores de aproximación."
   ]
  }
 ],
 "metadata": {
  "kernelspec": {
   "display_name": "Python 3",
   "language": "python",
   "name": "python3"
  },
  "language_info": {
   "codemirror_mode": {
    "name": "ipython",
    "version": 3
   },
   "file_extension": ".py",
   "mimetype": "text/x-python",
   "name": "python",
   "nbconvert_exporter": "python",
   "pygments_lexer": "ipython3",
   "version": "3.8.3"
  }
 },
 "nbformat": 4,
 "nbformat_minor": 4
}
